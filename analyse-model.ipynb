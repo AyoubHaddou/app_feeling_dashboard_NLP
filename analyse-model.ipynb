{
 "cells": [
  {
   "cell_type": "code",
   "execution_count": 1,
   "metadata": {},
   "outputs": [],
   "source": [
    "import pandas as pd\n",
    "\n",
    "df = pd.read_csv('data/Emotion_final.csv')"
   ]
  },
  {
   "cell_type": "markdown",
   "metadata": {},
   "source": [
    "# Analyse"
   ]
  },
  {
   "cell_type": "markdown",
   "metadata": {},
   "source": [
    "- Le jeu de donnée contient 21 459 rows "
   ]
  },
  {
   "cell_type": "code",
   "execution_count": 17,
   "metadata": {},
   "outputs": [
    {
     "data": {
      "text/html": [
       "<div>\n",
       "<style scoped>\n",
       "    .dataframe tbody tr th:only-of-type {\n",
       "        vertical-align: middle;\n",
       "    }\n",
       "\n",
       "    .dataframe tbody tr th {\n",
       "        vertical-align: top;\n",
       "    }\n",
       "\n",
       "    .dataframe thead th {\n",
       "        text-align: right;\n",
       "    }\n",
       "</style>\n",
       "<table border=\"1\" class=\"dataframe\">\n",
       "  <thead>\n",
       "    <tr style=\"text-align: right;\">\n",
       "      <th></th>\n",
       "      <th>Text</th>\n",
       "      <th>Emotion</th>\n",
       "    </tr>\n",
       "  </thead>\n",
       "  <tbody>\n",
       "    <tr>\n",
       "      <th>0</th>\n",
       "      <td>i didnt feel humiliated</td>\n",
       "      <td>sadness</td>\n",
       "    </tr>\n",
       "    <tr>\n",
       "      <th>1</th>\n",
       "      <td>i can go from feeling so hopeless to so damned...</td>\n",
       "      <td>sadness</td>\n",
       "    </tr>\n",
       "    <tr>\n",
       "      <th>2</th>\n",
       "      <td>im grabbing a minute to post i feel greedy wrong</td>\n",
       "      <td>anger</td>\n",
       "    </tr>\n",
       "    <tr>\n",
       "      <th>3</th>\n",
       "      <td>i am ever feeling nostalgic about the fireplac...</td>\n",
       "      <td>love</td>\n",
       "    </tr>\n",
       "    <tr>\n",
       "      <th>4</th>\n",
       "      <td>i am feeling grouchy</td>\n",
       "      <td>anger</td>\n",
       "    </tr>\n",
       "    <tr>\n",
       "      <th>...</th>\n",
       "      <td>...</td>\n",
       "      <td>...</td>\n",
       "    </tr>\n",
       "    <tr>\n",
       "      <th>21454</th>\n",
       "      <td>Melissa stared at her friend in dism</td>\n",
       "      <td>fear</td>\n",
       "    </tr>\n",
       "    <tr>\n",
       "      <th>21455</th>\n",
       "      <td>Successive state elections have seen the gover...</td>\n",
       "      <td>fear</td>\n",
       "    </tr>\n",
       "    <tr>\n",
       "      <th>21456</th>\n",
       "      <td>Vincent was irritated but not dismay</td>\n",
       "      <td>fear</td>\n",
       "    </tr>\n",
       "    <tr>\n",
       "      <th>21457</th>\n",
       "      <td>Kendall-Hume turned back to face the dismayed ...</td>\n",
       "      <td>fear</td>\n",
       "    </tr>\n",
       "    <tr>\n",
       "      <th>21458</th>\n",
       "      <td>I am dismayed , but not surpris</td>\n",
       "      <td>fear</td>\n",
       "    </tr>\n",
       "  </tbody>\n",
       "</table>\n",
       "<p>21459 rows × 2 columns</p>\n",
       "</div>"
      ],
      "text/plain": [
       "                                                    Text  Emotion\n",
       "0                                i didnt feel humiliated  sadness\n",
       "1      i can go from feeling so hopeless to so damned...  sadness\n",
       "2       im grabbing a minute to post i feel greedy wrong    anger\n",
       "3      i am ever feeling nostalgic about the fireplac...     love\n",
       "4                                   i am feeling grouchy    anger\n",
       "...                                                  ...      ...\n",
       "21454               Melissa stared at her friend in dism     fear\n",
       "21455  Successive state elections have seen the gover...     fear\n",
       "21456               Vincent was irritated but not dismay     fear\n",
       "21457  Kendall-Hume turned back to face the dismayed ...     fear\n",
       "21458                    I am dismayed , but not surpris     fear\n",
       "\n",
       "[21459 rows x 2 columns]"
      ]
     },
     "execution_count": 17,
     "metadata": {},
     "output_type": "execute_result"
    }
   ],
   "source": [
    "df"
   ]
  },
  {
   "cell_type": "markdown",
   "metadata": {},
   "source": [
    "- Les différents sentiments dans le df : \n",
    "  - Sadness \n",
    "  - Anger \n",
    "  - Love \n",
    "  - Surprise \n",
    "  - Fear \n",
    "  - Happy "
   ]
  },
  {
   "cell_type": "code",
   "execution_count": 8,
   "metadata": {},
   "outputs": [
    {
     "data": {
      "text/plain": [
       "happy       7029\n",
       "sadness     6265\n",
       "anger       2993\n",
       "fear        2652\n",
       "love        1641\n",
       "surprise     879\n",
       "Name: Emotion, dtype: int64"
      ]
     },
     "execution_count": 8,
     "metadata": {},
     "output_type": "execute_result"
    }
   ],
   "source": [
    "df.Emotion.value_counts()"
   ]
  },
  {
   "cell_type": "markdown",
   "metadata": {},
   "source": [
    "- Dans l'idéale, je selectionnerai 2/3 du jeu de donnée pour l'entrainement dans chaque catégorie d'émotion "
   ]
  },
  {
   "cell_type": "code",
   "execution_count": 15,
   "metadata": {},
   "outputs": [],
   "source": [
    "for i in df.Text:\n",
    "    if '=)' in i : \n",
    "        print(i)"
   ]
  },
  {
   "cell_type": "markdown",
   "metadata": {},
   "source": [
    "- Le texte semble plutot propre, aucun smile "
   ]
  },
  {
   "cell_type": "code",
   "execution_count": 16,
   "metadata": {},
   "outputs": [
    {
     "data": {
      "text/plain": [
       "[]"
      ]
     },
     "execution_count": 16,
     "metadata": {},
     "output_type": "execute_result"
    }
   ],
   "source": [
    "smileys = \"\"\":-) :) :o) :] :3 :c) :> =] 8) =)  \n",
    "             :D 8-D 8D x-D xD X-D XD =-D =D =-3 =3 B^D\"\"\".split()\n",
    "\n",
    "smyle_list = []\n",
    "for i in df.Text  :\n",
    "    for smyle in smileys :\n",
    "        if smyle in i :\n",
    "            smyle_list.append(i)\n",
    "\n",
    "smyle_list"
   ]
  },
  {
   "cell_type": "markdown",
   "metadata": {},
   "source": [
    "- Le datafram contient 144 lignes avec des digits (à prendre en compte)"
   ]
  },
  {
   "cell_type": "code",
   "execution_count": 22,
   "metadata": {},
   "outputs": [
    {
     "data": {
      "text/plain": [
       "['However , in 1878 , deaf education in Greenock faced a crisis because there was no-one able to continue to teach the children , and one parent was not happy about his child being taught in sign langu',\n",
       " 'However , in 1878 , deaf education in Greenock faced a crisis because there was no-one able to continue to teach the children , and one parent was not happy about his child being taught in sign langu',\n",
       " 'However , in 1878 , deaf education in Greenock faced a crisis because there was no-one able to continue to teach the children , and one parent was not happy about his child being taught in sign langu',\n",
       " \"He 's a very contented baby , a joy to his parents and big sister , and today at nine weeks old ( 40+3 ) , he smiled at us for the first t\",\n",
       " \"He 's a very contented baby , a joy to his parents and big sister , and today at nine weeks old ( 40+3 ) , he smiled at us for the first t\",\n",
       " \"He 's a very contented baby , a joy to his parents and big sister , and today at nine weeks old ( 40+3 ) , he smiled at us for the first t\",\n",
       " \"A host of splendid 19th century rooms throughout Lord Byron 's apartments are open for the delight of the pub\",\n",
       " \"A host of splendid 19th century rooms throughout Lord Byron 's apartments are open for the delight of the pub\",\n",
       " 'I am ecstatic about this , it is like winning my first cap not my 23r',\n",
       " 'I am ecstatic about this , it is like winning my first cap not my 23r',\n",
       " 'More then 40,000 ecstatic fans filled stadia each night to scream at the girly they instantly dubbed the Mighty Mino',\n",
       " 'More then 40,000 ecstatic fans filled stadia each night to scream at the girly they instantly dubbed the Mighty Mino',\n",
       " 'Riot police were needed to quell pitch invasions. -- More than 200,000 ecstatic Leeds United fans took part in a carnival-style street party yesterday as their team paraded the League Championship tro',\n",
       " 'Riot police were needed to quell pitch invasions. -- More than 200,000 ecstatic Leeds United fans took part in a carnival-style street party yesterday as their team paraded the League Championship tro',\n",
       " 'In fact they encouraged us most warmly , and we shared the general mood of elation at the overall success of the 1974 submiss',\n",
       " 'In fact they encouraged us most warmly , and we shared the general mood of elation at the overall success of the 1974 submiss',\n",
       " 'In fact they encouraged us most warmly , and we shared the general mood of elation at the overall success of the 1974 submiss',\n",
       " 'In fact they encouraged us most warmly , and we shared the general mood of elation at the overall success of the 1974 submiss',\n",
       " 'He was gleeful about the idea of a Faber ` Vaudeville \" production in 1929 where he starred as a baritone singing Bolovian Ballads and a song about a blue bab',\n",
       " 'He was gleeful about the idea of a Faber ` Vaudeville \" production in 1929 where he starred as a baritone singing Bolovian Ballads and a song about a blue bab',\n",
       " 'He was gleeful about the idea of a Faber ` Vaudeville \" production in 1929 where he starred as a baritone singing Bolovian Ballads and a song about a blue bab',\n",
       " 'Paula , mother of Nicola , 4 , and Richard , 2 , was pleased when the local council made the playground in the town park more child-frien',\n",
       " 'Paula , mother of Nicola , 4 , and Richard , 2 , was pleased when the local council made the playground in the town park more child-frien',\n",
       " 'I have been sent a Leeds United 1993-94 squad picture from the Evening Post and this now adorns my office wall , much to the amusement of my colleag',\n",
       " 'I have been sent a Leeds United 1993-94 squad picture from the Evening Post and this now adorns my office wall , much to the amusement of my colleag',\n",
       " 'I have been sent a Leeds United 1993-94 squad picture from the Evening Post and this now adorns my office wall , much to the amusement of my colleag',\n",
       " 'I have been sent a Leeds United 1993-94 squad picture from the Evening Post and this now adorns my office wall , much to the amusement of my colleag',\n",
       " 'As she looked around she felt a twinge of sadness that in a carriage where 70 per cent of the commuters were men there were five women forced to stand in the aisl',\n",
       " 'As she looked around she felt a twinge of sadness that in a carriage where 70 per cent of the commuters were men there were five women forced to stand in the aisl',\n",
       " \"But the address underlines the anguish of Her Majesty 's speech after the Windsor Castle fire when she referred to 1992 as her ` annus horribilis \",\n",
       " \"But the address underlines the anguish of Her Majesty 's speech after the Windsor Castle fire when she referred to 1992 as her ` annus horribilis \",\n",
       " \"But the address underlines the anguish of Her Majesty 's speech after the Windsor Castle fire when she referred to 1992 as her ` annus horribilis \",\n",
       " 'Whether the cries of anguish for 1991 alone are justified remains to be see',\n",
       " 'Whether the cries of anguish for 1991 alone are justified remains to be see',\n",
       " \"But Kirkwood , who was a particularly dejected figure after Monday 's decisive 1-0 defeat by Canada , injected some pride back into Irish ranks in the dying seconds when he flicked home the winne\",\n",
       " \"But Kirkwood , who was a particularly dejected figure after Monday 's decisive 1-0 defeat by Canada , injected some pride back into Irish ranks in the dying seconds when he flicked home the winne\",\n",
       " 'In it a deeply depressed Spiro , 46 , makes several rambling statements about his money problem',\n",
       " 'In it a deeply depressed Spiro , 46 , makes several rambling statements about his money problem',\n",
       " \"When I was 15 I was in a depressed state and I thought , I 'll do these last paintings about the end of the world and then I 'll end i\",\n",
       " \"When I was 15 I was in a depressed state and I thought , I 'll do these last paintings about the end of the world and then I 'll end i\",\n",
       " \"I 've heard of women so depressed that they spend their 40th birthday incommunicado , having a mini nervous breakdown in be\",\n",
       " \"I 've heard of women so depressed that they spend their 40th birthday incommunicado , having a mini nervous breakdown in be\",\n",
       " 'I remember my despondency in 1926 when Abd al Karim was forced to surrender to the Frenc',\n",
       " 'I remember my despondency in 1926 when Abd al Karim was forced to surrender to the Frenc',\n",
       " 'I remember my despondency in 1926 when Abd al Karim was forced to surrender to the Frenc',\n",
       " 'I remember my despondency in 1926 when Abd al Karim was forced to surrender to the Frenc',\n",
       " 'The euphoria and sense of well-being which accompanied the boom years of the 1980s has been replaced by a mood of despondency as companies and individuals experience the effects of a western-style recessio',\n",
       " 'The euphoria and sense of well-being which accompanied the boom years of the 1980s has been replaced by a mood of despondency as companies and individuals experience the effects of a western-style recessio',\n",
       " 'The euphoria and sense of well-being which accompanied the boom years of the 1980s has been replaced by a mood of despondency as companies and individuals experience the effects of a western-style recessio',\n",
       " 'The euphoria and sense of well-being which accompanied the boom years of the 1980s has been replaced by a mood of despondency as companies and individuals experience the effects of a western-style recessio',\n",
       " \"Julie 's devastated husband Tim , 32 , was last night preparing to fly from their home in Northampton to identify his wife 's bod\",\n",
       " \"Julie 's devastated husband Tim , 32 , was last night preparing to fly from their home in Northampton to identify his wife 's bod\",\n",
       " 'Yesterday it was also disclosed that glamorous Suzannah Dwyer told her devastated husband of her romance 24 hours before Bates went public with the news at a press conferenc',\n",
       " 'Yesterday it was also disclosed that glamorous Suzannah Dwyer told her devastated husband of her romance 24 hours before Bates went public with the news at a press conferenc',\n",
       " \"Wycombe were beaten by Bob Taylor 's 82nd-minute winner , and their disconsolate boss Martin O'Neill said : ` I was actually looking forward to extra-time because I was so sure we would wi\",\n",
       " \"Wycombe were beaten by Bob Taylor 's 82nd-minute winner , and their disconsolate boss Martin O'Neill said : ` I was actually looking forward to extra-time because I was so sure we would wi\",\n",
       " 'Leading scorer Paul Wilkinson struck his 20th goal of the season against his former club but looked glum as he left the dressing roo',\n",
       " 'Leading scorer Paul Wilkinson struck his 20th goal of the season against his former club but looked glum as he left the dressing roo',\n",
       " 'Sandra Cooper , 33 , midwife and founder of the Darlington Miscarriage Association , said :  Women who have had a miscarriage experience grief but they have no record of their unborn chil',\n",
       " \"Heartbroken Tim Godwin weeps as he tells how he had to tell his 23-month-old daughter Sophie : ` Mummy is n't coming back \",\n",
       " \"Heartbroken Tim Godwin weeps as he tells how he had to tell his 23-month-old daughter Sophie : ` Mummy is n't coming back \",\n",
       " 'She crammed more living into her 30 years than most people experience in two lifetimes , according to her heartbroken parents Ken and Dian',\n",
       " 'She crammed more living into her 30 years than most people experience in two lifetimes , according to her heartbroken parents Ken and Dian',\n",
       " 'And yesterday his heartbroken wife Jane slammed police for failing to find him after she raised the alarm 48 hours earlie',\n",
       " 'And yesterday his heartbroken wife Jane slammed police for failing to find him after she raised the alarm 48 hours earlie',\n",
       " \"Psalm 13 put her own question well &mdash'How; long shall l take counsel in my soul , having sorrow in my heart daily\",\n",
       " \"Psalm 13 put her own question well &mdash'How; long shall l take counsel in my soul , having sorrow in my heart daily\",\n",
       " \"June Barraclough 's A Time to Love ( Methuen , 12.95 ) spans both World Wars and paints a vivid picture of the loves and sorrows of the characters in the lives of two women friend\",\n",
       " \"June Barraclough 's A Time to Love ( Methuen , 12.95 ) spans both World Wars and paints a vivid picture of the loves and sorrows of the characters in the lives of two women friend\",\n",
       " \"June Barraclough 's A Time to Love ( Methuen , 12.95 ) spans both World Wars and paints a vivid picture of the loves and sorrows of the characters in the lives of two women friend\",\n",
       " \"June Barraclough 's A Time to Love ( Methuen , 12.95 ) spans both World Wars and paints a vivid picture of the loves and sorrows of the characters in the lives of two women friend\",\n",
       " \"MOST of those who read Glenys Roberts 's moan ( March 15 ) and who know Monaco felt , I suspect , more sorrow for the author than disdain for the plac\",\n",
       " \"MOST of those who read Glenys Roberts 's moan ( March 15 ) and who know Monaco felt , I suspect , more sorrow for the author than disdain for the plac\",\n",
       " 'When Lansdowne communicated his despair about the war to the press in 1917 and called for negotiations , there was a storm of protes',\n",
       " 'When Lansdowne communicated his despair about the war to the press in 1917 and called for negotiations , there was a storm of protes',\n",
       " 'When Lansdowne communicated his despair about the war to the press in 1917 and called for negotiations , there was a storm of protes',\n",
       " \"The Odones were left stunned when they were told in 1984 at the Children 's Hospital in Washington DC that their fun-loving , brilliant six-year-old son -- he already spoke three languages -- had ALD , and was under sentence of\",\n",
       " \"The Odones were left stunned when they were told in 1984 at the Children 's Hospital in Washington DC that their fun-loving , brilliant six-year-old son -- he already spoke three languages -- had ALD , and was under sentence of\",\n",
       " \"The Odones were left stunned when they were told in 1984 at the Children 's Hospital in Washington DC that their fun-loving , brilliant six-year-old son -- he already spoke three languages -- had ALD , and was under sentence of\",\n",
       " \"The Odones were left stunned when they were told in 1984 at the Children 's Hospital in Washington DC that their fun-loving , brilliant six-year-old son -- he already spoke three languages -- had ALD , and was under sentence of\",\n",
       " 'In her ` Daughter of Evil \" ( McShane , 1980 ) she stresses her own lifelong affection for her mother and her stunned reaction at being convicted and sen',\n",
       " 'In her ` Daughter of Evil \" ( McShane , 1980 ) she stresses her own lifelong affection for her mother and her stunned reaction at being convicted and sen',\n",
       " 'In her ` Daughter of Evil \" ( McShane , 1980 ) she stresses her own lifelong affection for her mother and her stunned reaction at being convicted and sen',\n",
       " 'In her ` Daughter of Evil \" ( McShane , 1980 ) she stresses her own lifelong affection for her mother and her stunned reaction at being convicted and sen',\n",
       " 'Most Germans looked on stunned as the results from the two state elections on 5 April flashed across their television s',\n",
       " 'Hamnett became irate and , alleging breach of contract and damage to her image , threatened to sue him for a 500,',\n",
       " 'Hamnett became irate and , alleging breach of contract and damage to her image , threatened to sue him for a 500,',\n",
       " 'At the sixth congress , in 1986 , irate delegates rejected a ridiculously optimistic programme that had been drafted in secret by Le Duan , the then secretary-gene',\n",
       " 'At the sixth congress , in 1986 , irate delegates rejected a ridiculously optimistic programme that had been drafted in secret by Le Duan , the then secretary-gene',\n",
       " 'At the sixth congress , in 1986 , irate delegates rejected a ridiculously optimistic programme that had been drafted in secret by Le Duan , the then secretary-gene',\n",
       " 'At the sixth congress , in 1986 , irate delegates rejected a ridiculously optimistic programme that had been drafted in secret by Le Duan , the then secretary-gene',\n",
       " 'This week an irate mother reportedly stormed into a London school and hauled her 15-year-old daughter out of a class in elementary sapph',\n",
       " 'This week an irate mother reportedly stormed into a London school and hauled her 15-year-old daughter out of a class in elementary sapph',\n",
       " \"City fans are still livid over the clash with Bull that led to skipper Steve Walsh 's sending off in the 3-0 defeat at Molineux three weeks \",\n",
       " \"City fans are still livid over the clash with Bull that led to skipper Steve Walsh 's sending off in the 3-0 defeat at Molineux three weeks \",\n",
       " \"The Government resolutely refused to comment until in January 1978 we suddenly heard that an exasperated Lord Rosebery had broken off the sale and given Sotheby 's the go-ahead to auction the contents in \",\n",
       " \"The Government resolutely refused to comment until in January 1978 we suddenly heard that an exasperated Lord Rosebery had broken off the sale and given Sotheby 's the go-ahead to auction the contents in \",\n",
       " \"The Government resolutely refused to comment until in January 1978 we suddenly heard that an exasperated Lord Rosebery had broken off the sale and given Sotheby 's the go-ahead to auction the contents in \",\n",
       " \"The Government resolutely refused to comment until in January 1978 we suddenly heard that an exasperated Lord Rosebery had broken off the sale and given Sotheby 's the go-ahead to auction the contents in \",\n",
       " \"Shaw , however , worked off most of his exasperation over the weekend winning the Durham and Cleveland County veterans ' over 50 ti\",\n",
       " \"Shaw , however , worked off most of his exasperation over the weekend winning the Durham and Cleveland County veterans ' over 50 ti\",\n",
       " 'They were a little anxious about the flight over the Timor Sea as their compass had been 10 awry on the outward journey though it was correct at Melbour',\n",
       " 'They were a little anxious about the flight over the Timor Sea as their compass had been 10 awry on the outward journey though it was correct at Melbour',\n",
       " \"Jose , the refuge guardian , was concerned when Jeremy did n't return to Elola on the evening of Sunday , October 21 -- he had left his camping gear behind in the h\",\n",
       " \"Jose , the refuge guardian , was concerned when Jeremy did n't return to Elola on the evening of Sunday , October 21 -- he had left his camping gear behind in the h\",\n",
       " \"Maria 's ( 3.5 years ) parents were concerned because of her severe headbanging at ho\",\n",
       " \"Maria 's ( 3.5 years ) parents were concerned because of her severe headbanging at ho\",\n",
       " 'Despite the disquiet at the club this year , Mr Stringer still appears more relaxed and more in control than he did when he first took charge in that winter of 19',\n",
       " 'Despite the disquiet at the club this year , Mr Stringer still appears more relaxed and more in control than he did when he first took charge in that winter of 19',\n",
       " 'In his meeting with Bush , zal reportedly sought to express his disquiet about a bill passing through the US Congress aimed at marking the \" 75th anniversary of the Armenian genocide of 1915-23',\n",
       " 'In his meeting with Bush , zal reportedly sought to express his disquiet about a bill passing through the US Congress aimed at marking the \" 75th anniversary of the Armenian genocide of 1915-23',\n",
       " 'In his meeting with Bush , zal reportedly sought to express his disquiet about a bill passing through the US Congress aimed at marking the \" 75th anniversary of the Armenian genocide of 1915-23',\n",
       " 'In his meeting with Bush , zal reportedly sought to express his disquiet about a bill passing through the US Congress aimed at marking the \" 75th anniversary of the Armenian genocide of 1915-23',\n",
       " 'In his meeting with Bush , zal reportedly sought to express his disquiet about a bill passing through the US Congress aimed at marking the \" 75th anniversary of the Armenian genocide of 1915-23',\n",
       " 'In his meeting with Bush , zal reportedly sought to express his disquiet about a bill passing through the US Congress aimed at marking the \" 75th anniversary of the Armenian genocide of 1915-23',\n",
       " 'In 1989 he began libel proceedings in the UK against the Singapore government after the Privy Council had expressed \" deep disquiet \" over his treatment by the government [ see p. 37574',\n",
       " 'In 1989 he began libel proceedings in the UK against the Singapore government after the Privy Council had expressed \" deep disquiet \" over his treatment by the government [ see p. 37574',\n",
       " 'In 1989 he began libel proceedings in the UK against the Singapore government after the Privy Council had expressed \" deep disquiet \" over his treatment by the government [ see p. 37574',\n",
       " 'In 1989 he began libel proceedings in the UK against the Singapore government after the Privy Council had expressed \" deep disquiet \" over his treatment by the government [ see p. 37574',\n",
       " 'In 1989 he began libel proceedings in the UK against the Singapore government after the Privy Council had expressed \" deep disquiet \" over his treatment by the government [ see p. 37574',\n",
       " 'In 1989 he began libel proceedings in the UK against the Singapore government after the Privy Council had expressed \" deep disquiet \" over his treatment by the government [ see p. 37574',\n",
       " 'In 1989 he began libel proceedings in the UK against the Singapore government after the Privy Council had expressed \" deep disquiet \" over his treatment by the government [ see p. 37574',\n",
       " 'Mr McWhinney ( 55 ) , of Drumhark Road , Comber , died instantly when his single-engined Pulsar plunged to the ground in front of horrified spectato',\n",
       " \"One itemised phone bill to Bedworth 's horrified mother ran to 34 pages of listed calls , the jury hea\",\n",
       " \"One itemised phone bill to Bedworth 's horrified mother ran to 34 pages of listed calls , the jury hea\",\n",
       " 'His horrified mother made a public appeal for the return of the ring , given to her by husband Alfed 18-years a',\n",
       " 'His horrified mother made a public appeal for the return of the ring , given to her by husband Alfed 18-years a',\n",
       " 'Rather than match China \\'s firmness , it can be confidently predicted , the Hong Kong authorities will follow past form , cease muttering about their shock and horror over Tiananmen , and return to bland assurances that the negotiations with Peking about a post-1997 ` Basic Law \" for Hong Kong are going we',\n",
       " 'Rather than match China \\'s firmness , it can be confidently predicted , the Hong Kong authorities will follow past form , cease muttering about their shock and horror over Tiananmen , and return to bland assurances that the negotiations with Peking about a post-1997 ` Basic Law \" for Hong Kong are going we',\n",
       " 'Rather than match China \\'s firmness , it can be confidently predicted , the Hong Kong authorities will follow past form , cease muttering about their shock and horror over Tiananmen , and return to bland assurances that the negotiations with Peking about a post-1997 ` Basic Law \" for Hong Kong are going we',\n",
       " 'But the blank horror over Khmer Rouge atrocities between 1975 and 1978 has created a blind spot about its strength in Cambodia , and the growing likelihood that it will return to power , either on its own or with the other Cambodian opposition factio',\n",
       " 'But the blank horror over Khmer Rouge atrocities between 1975 and 1978 has created a blind spot about its strength in Cambodia , and the growing likelihood that it will return to power , either on its own or with the other Cambodian opposition factio',\n",
       " 'But the blank horror over Khmer Rouge atrocities between 1975 and 1978 has created a blind spot about its strength in Cambodia , and the growing likelihood that it will return to power , either on its own or with the other Cambodian opposition factio',\n",
       " 'But the blank horror over Khmer Rouge atrocities between 1975 and 1978 has created a blind spot about its strength in Cambodia , and the growing likelihood that it will return to power , either on its own or with the other Cambodian opposition factio',\n",
       " 'But the blank horror over Khmer Rouge atrocities between 1975 and 1978 has created a blind spot about its strength in Cambodia , and the growing likelihood that it will return to power , either on its own or with the other Cambodian opposition factio',\n",
       " 'What a contrast with the rattled and untrustworthy gamblers at Number 10 and Number 11 Downing Stre',\n",
       " 'What a contrast with the rattled and untrustworthy gamblers at Number 10 and Number 11 Downing Stre',\n",
       " 'THE Italian writer Primo Levi died on 11 April 1987 , to the dismay of his reade',\n",
       " 'THE Italian writer Primo Levi died on 11 April 1987 , to the dismay of his reade',\n",
       " 'THE Italian writer Primo Levi died on 11 April 1987 , to the dismay of his reade',\n",
       " 'THE Italian writer Primo Levi died on 11 April 1987 , to the dismay of his reade',\n",
       " \"Ian Fleming 's superhero first appeared in Issue 4 of ZZAP ! , much to the dismay of the reviewing te\",\n",
       " 'She wrote : \" Thank you for your letter dated 9th October 1991 which I have read with great dism',\n",
       " 'She wrote : \" Thank you for your letter dated 9th October 1991 which I have read with great dism']"
      ]
     },
     "execution_count": 22,
     "metadata": {},
     "output_type": "execute_result"
    }
   ],
   "source": [
    "digits = \"0 1 2 3 4 5 6 7 8 9\".split()\n",
    "\n",
    "digits_list = []\n",
    "for i in df.Text  :\n",
    "    for smyle in digits :\n",
    "        if smyle in i :\n",
    "            digits_list.append(i)\n",
    "\n",
    "digits_list"
   ]
  },
  {
   "cell_type": "code",
   "execution_count": 19,
   "metadata": {},
   "outputs": [
    {
     "data": {
      "text/plain": [
       "144"
      ]
     },
     "execution_count": 19,
     "metadata": {},
     "output_type": "execute_result"
    }
   ],
   "source": [
    "len(smyle_list)"
   ]
  },
  {
   "cell_type": "code",
   "execution_count": 21,
   "metadata": {},
   "outputs": [
    {
     "data": {
      "text/plain": [
       "[]"
      ]
     },
     "execution_count": 21,
     "metadata": {},
     "output_type": "execute_result"
    }
   ],
   "source": [
    "digits = \"{ } / \\\\ \".split()\n",
    "\n",
    "smyle_list = []\n",
    "for i in df.Text  :\n",
    "    for smyle in digits :\n",
    "        if smyle in i :\n",
    "            smyle_list.append(i)\n",
    "\n",
    "smyle_list"
   ]
  },
  {
   "cell_type": "code",
   "execution_count": null,
   "metadata": {},
   "outputs": [],
   "source": []
  },
  {
   "cell_type": "markdown",
   "metadata": {},
   "source": [
    "# Preprocessing "
   ]
  },
  {
   "cell_type": "code",
   "execution_count": 49,
   "metadata": {},
   "outputs": [],
   "source": [
    "import texthero as hero\n",
    "df['clean_text'] = hero.clean(df['Text'])\n",
    "df['tfidf_clean_text'] = hero.tfidf(df['clean_text'])"
   ]
  },
  {
   "cell_type": "markdown",
   "metadata": {},
   "source": [
    "# Separation des données et entrainement du model "
   ]
  },
  {
   "cell_type": "code",
   "execution_count": 24,
   "metadata": {},
   "outputs": [],
   "source": [
    "import numpy as np\n",
    "from sklearn.feature_extraction.text import CountVectorizer\n",
    "from sklearn.model_selection import train_test_split\n"
   ]
  },
  {
   "cell_type": "code",
   "execution_count": 42,
   "metadata": {},
   "outputs": [],
   "source": [
    "X_train, X_test, y_train, y_test = train_test_split(df.Text, df.Emotion, train_size=0.85, random_state=1, shuffle=True)\n",
    "X_test, X_valid, y_test, y_valid = train_test_split(X_train, y_train, train_size=0.5, shuffle=True)"
   ]
  }
 ],
 "metadata": {
  "interpreter": {
   "hash": "2129c700e705de3efd9ae2b2b20e2b8815b1347cebedadc9119654098963d6df"
  },
  "kernelspec": {
   "display_name": "Python 3.9.7 ('base')",
   "language": "python",
   "name": "python3"
  },
  "language_info": {
   "codemirror_mode": {
    "name": "ipython",
    "version": 3
   },
   "file_extension": ".py",
   "mimetype": "text/x-python",
   "name": "python",
   "nbconvert_exporter": "python",
   "pygments_lexer": "ipython3",
   "version": "3.9.7"
  },
  "orig_nbformat": 4
 },
 "nbformat": 4,
 "nbformat_minor": 2
}
