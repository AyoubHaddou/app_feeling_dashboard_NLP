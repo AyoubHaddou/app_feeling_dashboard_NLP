{
 "cells": [
  {
   "cell_type": "code",
   "execution_count": 6,
   "metadata": {},
   "outputs": [
    {
     "data": {
      "text/plain": [
       "16"
      ]
     },
     "execution_count": 6,
     "metadata": {},
     "output_type": "execute_result"
    }
   ],
   "source": [
    "import datetime\n",
    "\n",
    "date = datetime.datetime.now().day\n",
    "\n",
    "date"
   ]
  },
  {
   "cell_type": "code",
   "execution_count": null,
   "metadata": {},
   "outputs": [
    {
     "ename": "",
     "evalue": "",
     "output_type": "error",
     "traceback": [
      "\u001b[1;31mJupyter cannot be started. Error attempting to locate jupyter: Running cells with 'Python 3.8.10 64-bit' requires jupyter and notebook package.\n",
      "Run the following command to install 'jupyter and notebook' into the Python environment. \n",
      "Command: 'python -m pip install jupyter notebook -U\n",
      "or\n",
      "conda install jupyter notebook -U'\n",
      "Click <a href='https://aka.ms/installJupyterForVSCode'>here</a> for more info."
     ]
    }
   ],
   "source": [
    "import pandas as pd \n",
    "\n",
    "data = {\"data\" : 2, \"data2\" : 5}\n",
    "pd.DataFrame(data)"
   ]
  },
  {
   "cell_type": "code",
   "execution_count": 1,
   "metadata": {},
   "outputs": [
    {
     "name": "stdout",
     "output_type": "stream",
     "text": [
      "I'm scared.. I've not good relation with my boss.. If he fired me I will be alone.\n",
      "I go at work with stomach.. Strange feel.\n",
      "I fell in love with Eric\n",
      "A little better today. My boss talk to me with kindness\n",
      "My boss has very bad behavior. He is not passionate by his job.\n"
     ]
    }
   ],
   "source": [
    "    texte = []\n",
    "    texte.append(\"I'm scared.. I've not good relation with my boss.. If he fired me I will be alone.\")\n",
    "    texte.append(\"I go at work with stomach.. Strange feel.\")\n",
    "    texte.append(\"I fell in love with Eric\")\n",
    "    texte.append(\"A little better today. My boss talk to me with kindness\")\n",
    "    texte.append(\"My boss has very bad behavior. He is not passionate by his job.\")\n",
    "    for day_texte in texte:\n",
    "        print(day_texte)"
   ]
  },
  {
   "cell_type": "code",
   "execution_count": null,
   "metadata": {},
   "outputs": [],
   "source": []
  }
 ],
 "metadata": {
  "interpreter": {
   "hash": "3c8bd066a370b7dd89827b9d9c9dadad0ed82ea57a127d7d69b25a80a1af0e6c"
  },
  "kernelspec": {
   "display_name": "Python 3.9.7 ('nlp')",
   "language": "python",
   "name": "python3"
  },
  "language_info": {
   "codemirror_mode": {
    "name": "ipython",
    "version": 3
   },
   "file_extension": ".py",
   "mimetype": "text/x-python",
   "name": "python",
   "nbconvert_exporter": "python",
   "pygments_lexer": "ipython3",
   "version": "3.9.7"
  },
  "orig_nbformat": 4
 },
 "nbformat": 4,
 "nbformat_minor": 2
}
