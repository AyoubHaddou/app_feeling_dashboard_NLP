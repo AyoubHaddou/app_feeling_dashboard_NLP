{
  "cells": [
    {
      "cell_type": "markdown",
      "metadata": {
        "id": "2QWbHkPmlNiN"
      },
      "source": [
        "# Datafram + module import "
      ]
    },
    {
      "cell_type": "code",
      "execution_count": 4,
      "metadata": {
        "id": "nR4kKyLxNUeX"
      },
      "outputs": [],
      "source": [
        "import pandas as pd\n",
        "import numpy as np\n",
        "from sklearn.feature_extraction.text import CountVectorizer\n",
        "from sklearn.model_selection import train_test_split\n",
        "import texthero as hero"
      ]
    },
    {
      "cell_type": "code",
      "execution_count": 6,
      "metadata": {
        "id": "mPN9UIyTNUeb"
      },
      "outputs": [],
      "source": [
        "df = pd.read_csv('data/Emotion_final.csv')"
      ]
    },
    {
      "cell_type": "markdown",
      "metadata": {
        "id": "OiACnWTdlXfc"
      },
      "source": [
        "# Analyse"
      ]
    },
    {
      "cell_type": "code",
      "execution_count": 7,
      "metadata": {
        "colab": {
          "base_uri": "https://localhost:8080/",
          "height": 423
        },
        "id": "mHiosnAOloid",
        "outputId": "cd5e52f2-7711-439c-ff06-b2b4d1e213a9"
      },
      "outputs": [
        {
          "data": {
            "text/html": [
              "\n",
              "  <div id=\"df-48361441-5400-4003-9dfb-77af73690d76\">\n",
              "    <div class=\"colab-df-container\">\n",
              "      <div>\n",
              "<style scoped>\n",
              "    .dataframe tbody tr th:only-of-type {\n",
              "        vertical-align: middle;\n",
              "    }\n",
              "\n",
              "    .dataframe tbody tr th {\n",
              "        vertical-align: top;\n",
              "    }\n",
              "\n",
              "    .dataframe thead th {\n",
              "        text-align: right;\n",
              "    }\n",
              "</style>\n",
              "<table border=\"1\" class=\"dataframe\">\n",
              "  <thead>\n",
              "    <tr style=\"text-align: right;\">\n",
              "      <th></th>\n",
              "      <th>Text</th>\n",
              "      <th>Emotion</th>\n",
              "    </tr>\n",
              "  </thead>\n",
              "  <tbody>\n",
              "    <tr>\n",
              "      <th>0</th>\n",
              "      <td>i didnt feel humiliated</td>\n",
              "      <td>sadness</td>\n",
              "    </tr>\n",
              "    <tr>\n",
              "      <th>1</th>\n",
              "      <td>i can go from feeling so hopeless to so damned...</td>\n",
              "      <td>sadness</td>\n",
              "    </tr>\n",
              "    <tr>\n",
              "      <th>2</th>\n",
              "      <td>im grabbing a minute to post i feel greedy wrong</td>\n",
              "      <td>anger</td>\n",
              "    </tr>\n",
              "    <tr>\n",
              "      <th>3</th>\n",
              "      <td>i am ever feeling nostalgic about the fireplac...</td>\n",
              "      <td>love</td>\n",
              "    </tr>\n",
              "    <tr>\n",
              "      <th>4</th>\n",
              "      <td>i am feeling grouchy</td>\n",
              "      <td>anger</td>\n",
              "    </tr>\n",
              "    <tr>\n",
              "      <th>...</th>\n",
              "      <td>...</td>\n",
              "      <td>...</td>\n",
              "    </tr>\n",
              "    <tr>\n",
              "      <th>21454</th>\n",
              "      <td>Melissa stared at her friend in dism</td>\n",
              "      <td>fear</td>\n",
              "    </tr>\n",
              "    <tr>\n",
              "      <th>21455</th>\n",
              "      <td>Successive state elections have seen the gover...</td>\n",
              "      <td>fear</td>\n",
              "    </tr>\n",
              "    <tr>\n",
              "      <th>21456</th>\n",
              "      <td>Vincent was irritated but not dismay</td>\n",
              "      <td>fear</td>\n",
              "    </tr>\n",
              "    <tr>\n",
              "      <th>21457</th>\n",
              "      <td>Kendall-Hume turned back to face the dismayed ...</td>\n",
              "      <td>fear</td>\n",
              "    </tr>\n",
              "    <tr>\n",
              "      <th>21458</th>\n",
              "      <td>I am dismayed , but not surpris</td>\n",
              "      <td>fear</td>\n",
              "    </tr>\n",
              "  </tbody>\n",
              "</table>\n",
              "<p>21459 rows × 2 columns</p>\n",
              "</div>\n",
              "      <button class=\"colab-df-convert\" onclick=\"convertToInteractive('df-48361441-5400-4003-9dfb-77af73690d76')\"\n",
              "              title=\"Convert this dataframe to an interactive table.\"\n",
              "              style=\"display:none;\">\n",
              "        \n",
              "  <svg xmlns=\"http://www.w3.org/2000/svg\" height=\"24px\"viewBox=\"0 0 24 24\"\n",
              "       width=\"24px\">\n",
              "    <path d=\"M0 0h24v24H0V0z\" fill=\"none\"/>\n",
              "    <path d=\"M18.56 5.44l.94 2.06.94-2.06 2.06-.94-2.06-.94-.94-2.06-.94 2.06-2.06.94zm-11 1L8.5 8.5l.94-2.06 2.06-.94-2.06-.94L8.5 2.5l-.94 2.06-2.06.94zm10 10l.94 2.06.94-2.06 2.06-.94-2.06-.94-.94-2.06-.94 2.06-2.06.94z\"/><path d=\"M17.41 7.96l-1.37-1.37c-.4-.4-.92-.59-1.43-.59-.52 0-1.04.2-1.43.59L10.3 9.45l-7.72 7.72c-.78.78-.78 2.05 0 2.83L4 21.41c.39.39.9.59 1.41.59.51 0 1.02-.2 1.41-.59l7.78-7.78 2.81-2.81c.8-.78.8-2.07 0-2.86zM5.41 20L4 18.59l7.72-7.72 1.47 1.35L5.41 20z\"/>\n",
              "  </svg>\n",
              "      </button>\n",
              "      \n",
              "  <style>\n",
              "    .colab-df-container {\n",
              "      display:flex;\n",
              "      flex-wrap:wrap;\n",
              "      gap: 12px;\n",
              "    }\n",
              "\n",
              "    .colab-df-convert {\n",
              "      background-color: #E8F0FE;\n",
              "      border: none;\n",
              "      border-radius: 50%;\n",
              "      cursor: pointer;\n",
              "      display: none;\n",
              "      fill: #1967D2;\n",
              "      height: 32px;\n",
              "      padding: 0 0 0 0;\n",
              "      width: 32px;\n",
              "    }\n",
              "\n",
              "    .colab-df-convert:hover {\n",
              "      background-color: #E2EBFA;\n",
              "      box-shadow: 0px 1px 2px rgba(60, 64, 67, 0.3), 0px 1px 3px 1px rgba(60, 64, 67, 0.15);\n",
              "      fill: #174EA6;\n",
              "    }\n",
              "\n",
              "    [theme=dark] .colab-df-convert {\n",
              "      background-color: #3B4455;\n",
              "      fill: #D2E3FC;\n",
              "    }\n",
              "\n",
              "    [theme=dark] .colab-df-convert:hover {\n",
              "      background-color: #434B5C;\n",
              "      box-shadow: 0px 1px 3px 1px rgba(0, 0, 0, 0.15);\n",
              "      filter: drop-shadow(0px 1px 2px rgba(0, 0, 0, 0.3));\n",
              "      fill: #FFFFFF;\n",
              "    }\n",
              "  </style>\n",
              "\n",
              "      <script>\n",
              "        const buttonEl =\n",
              "          document.querySelector('#df-48361441-5400-4003-9dfb-77af73690d76 button.colab-df-convert');\n",
              "        buttonEl.style.display =\n",
              "          google.colab.kernel.accessAllowed ? 'block' : 'none';\n",
              "\n",
              "        async function convertToInteractive(key) {\n",
              "          const element = document.querySelector('#df-48361441-5400-4003-9dfb-77af73690d76');\n",
              "          const dataTable =\n",
              "            await google.colab.kernel.invokeFunction('convertToInteractive',\n",
              "                                                     [key], {});\n",
              "          if (!dataTable) return;\n",
              "\n",
              "          const docLinkHtml = 'Like what you see? Visit the ' +\n",
              "            '<a target=\"_blank\" href=https://colab.research.google.com/notebooks/data_table.ipynb>data table notebook</a>'\n",
              "            + ' to learn more about interactive tables.';\n",
              "          element.innerHTML = '';\n",
              "          dataTable['output_type'] = 'display_data';\n",
              "          await google.colab.output.renderOutput(dataTable, element);\n",
              "          const docLink = document.createElement('div');\n",
              "          docLink.innerHTML = docLinkHtml;\n",
              "          element.appendChild(docLink);\n",
              "        }\n",
              "      </script>\n",
              "    </div>\n",
              "  </div>\n",
              "  "
            ],
            "text/plain": [
              "                                                    Text  Emotion\n",
              "0                                i didnt feel humiliated  sadness\n",
              "1      i can go from feeling so hopeless to so damned...  sadness\n",
              "2       im grabbing a minute to post i feel greedy wrong    anger\n",
              "3      i am ever feeling nostalgic about the fireplac...     love\n",
              "4                                   i am feeling grouchy    anger\n",
              "...                                                  ...      ...\n",
              "21454               Melissa stared at her friend in dism     fear\n",
              "21455  Successive state elections have seen the gover...     fear\n",
              "21456               Vincent was irritated but not dismay     fear\n",
              "21457  Kendall-Hume turned back to face the dismayed ...     fear\n",
              "21458                    I am dismayed , but not surpris     fear\n",
              "\n",
              "[21459 rows x 2 columns]"
            ]
          },
          "execution_count": 7,
          "metadata": {},
          "output_type": "execute_result"
        }
      ],
      "source": [
        "df"
      ]
    },
    {
      "cell_type": "markdown",
      "metadata": {
        "id": "oIFKAhUEltax"
      },
      "source": [
        "- Les différents sentiments dans le df : \n",
        "  - Sadness \n",
        "  - Anger \n",
        "  - Love \n",
        "  - Surprise \n",
        "  - Fear \n",
        "  - Happy "
      ]
    },
    {
      "cell_type": "code",
      "execution_count": 8,
      "metadata": {
        "colab": {
          "base_uri": "https://localhost:8080/"
        },
        "id": "0MojB6q7lzRJ",
        "outputId": "d71ebfbf-d6b0-4e1b-df84-7a1ced516f7f"
      },
      "outputs": [
        {
          "data": {
            "text/plain": [
              "[]"
            ]
          },
          "execution_count": 8,
          "metadata": {},
          "output_type": "execute_result"
        }
      ],
      "source": [
        "smileys = \"\"\":-) :) :o) :] :3 :c) :> =] 8) =)  \n",
        "             :D 8-D 8D x-D xD X-D XD =-D =D =-3 =3 B^D\"\"\".split()\n",
        "\n",
        "smyle_list = []\n",
        "for i in df.Text  :\n",
        "    for smyle in smileys :\n",
        "        if smyle in i :\n",
        "            smyle_list.append(i)\n",
        "\n",
        "smyle_list"
      ]
    },
    {
      "cell_type": "markdown",
      "metadata": {
        "id": "3VPqGQWkl3qu"
      },
      "source": [
        "- Le texte semble plutot propre, aucun smile "
      ]
    },
    {
      "cell_type": "code",
      "execution_count": 9,
      "metadata": {
        "colab": {
          "base_uri": "https://localhost:8080/"
        },
        "id": "lkRNaOZal6Sf",
        "outputId": "134ce91c-0f56-4bdf-e8c2-a94a16a2b634"
      },
      "outputs": [
        {
          "data": {
            "text/plain": [
              "['However , in 1878 , deaf education in Greenock faced a crisis because there was no-one able to continue to teach the children , and one parent was not happy about his child being taught in sign langu',\n",
              " 'However , in 1878 , deaf education in Greenock faced a crisis because there was no-one able to continue to teach the children , and one parent was not happy about his child being taught in sign langu',\n",
              " 'However , in 1878 , deaf education in Greenock faced a crisis because there was no-one able to continue to teach the children , and one parent was not happy about his child being taught in sign langu',\n",
              " \"He 's a very contented baby , a joy to his parents and big sister , and today at nine weeks old ( 40+3 ) , he smiled at us for the first t\",\n",
              " \"He 's a very contented baby , a joy to his parents and big sister , and today at nine weeks old ( 40+3 ) , he smiled at us for the first t\",\n",
              " \"He 's a very contented baby , a joy to his parents and big sister , and today at nine weeks old ( 40+3 ) , he smiled at us for the first t\",\n",
              " \"A host of splendid 19th century rooms throughout Lord Byron 's apartments are open for the delight of the pub\",\n",
              " \"A host of splendid 19th century rooms throughout Lord Byron 's apartments are open for the delight of the pub\",\n",
              " 'I am ecstatic about this , it is like winning my first cap not my 23r',\n",
              " 'I am ecstatic about this , it is like winning my first cap not my 23r',\n",
              " 'More then 40,000 ecstatic fans filled stadia each night to scream at the girly they instantly dubbed the Mighty Mino',\n",
              " 'More then 40,000 ecstatic fans filled stadia each night to scream at the girly they instantly dubbed the Mighty Mino',\n",
              " 'Riot police were needed to quell pitch invasions. -- More than 200,000 ecstatic Leeds United fans took part in a carnival-style street party yesterday as their team paraded the League Championship tro',\n",
              " 'Riot police were needed to quell pitch invasions. -- More than 200,000 ecstatic Leeds United fans took part in a carnival-style street party yesterday as their team paraded the League Championship tro',\n",
              " 'In fact they encouraged us most warmly , and we shared the general mood of elation at the overall success of the 1974 submiss',\n",
              " 'In fact they encouraged us most warmly , and we shared the general mood of elation at the overall success of the 1974 submiss',\n",
              " 'In fact they encouraged us most warmly , and we shared the general mood of elation at the overall success of the 1974 submiss',\n",
              " 'In fact they encouraged us most warmly , and we shared the general mood of elation at the overall success of the 1974 submiss',\n",
              " 'He was gleeful about the idea of a Faber ` Vaudeville \" production in 1929 where he starred as a baritone singing Bolovian Ballads and a song about a blue bab',\n",
              " 'He was gleeful about the idea of a Faber ` Vaudeville \" production in 1929 where he starred as a baritone singing Bolovian Ballads and a song about a blue bab',\n",
              " 'He was gleeful about the idea of a Faber ` Vaudeville \" production in 1929 where he starred as a baritone singing Bolovian Ballads and a song about a blue bab',\n",
              " 'Paula , mother of Nicola , 4 , and Richard , 2 , was pleased when the local council made the playground in the town park more child-frien',\n",
              " 'Paula , mother of Nicola , 4 , and Richard , 2 , was pleased when the local council made the playground in the town park more child-frien',\n",
              " 'I have been sent a Leeds United 1993-94 squad picture from the Evening Post and this now adorns my office wall , much to the amusement of my colleag',\n",
              " 'I have been sent a Leeds United 1993-94 squad picture from the Evening Post and this now adorns my office wall , much to the amusement of my colleag',\n",
              " 'I have been sent a Leeds United 1993-94 squad picture from the Evening Post and this now adorns my office wall , much to the amusement of my colleag',\n",
              " 'I have been sent a Leeds United 1993-94 squad picture from the Evening Post and this now adorns my office wall , much to the amusement of my colleag',\n",
              " 'As she looked around she felt a twinge of sadness that in a carriage where 70 per cent of the commuters were men there were five women forced to stand in the aisl',\n",
              " 'As she looked around she felt a twinge of sadness that in a carriage where 70 per cent of the commuters were men there were five women forced to stand in the aisl',\n",
              " \"But the address underlines the anguish of Her Majesty 's speech after the Windsor Castle fire when she referred to 1992 as her ` annus horribilis \",\n",
              " \"But the address underlines the anguish of Her Majesty 's speech after the Windsor Castle fire when she referred to 1992 as her ` annus horribilis \",\n",
              " \"But the address underlines the anguish of Her Majesty 's speech after the Windsor Castle fire when she referred to 1992 as her ` annus horribilis \",\n",
              " 'Whether the cries of anguish for 1991 alone are justified remains to be see',\n",
              " 'Whether the cries of anguish for 1991 alone are justified remains to be see',\n",
              " \"But Kirkwood , who was a particularly dejected figure after Monday 's decisive 1-0 defeat by Canada , injected some pride back into Irish ranks in the dying seconds when he flicked home the winne\",\n",
              " \"But Kirkwood , who was a particularly dejected figure after Monday 's decisive 1-0 defeat by Canada , injected some pride back into Irish ranks in the dying seconds when he flicked home the winne\",\n",
              " 'In it a deeply depressed Spiro , 46 , makes several rambling statements about his money problem',\n",
              " 'In it a deeply depressed Spiro , 46 , makes several rambling statements about his money problem',\n",
              " \"When I was 15 I was in a depressed state and I thought , I 'll do these last paintings about the end of the world and then I 'll end i\",\n",
              " \"When I was 15 I was in a depressed state and I thought , I 'll do these last paintings about the end of the world and then I 'll end i\",\n",
              " \"I 've heard of women so depressed that they spend their 40th birthday incommunicado , having a mini nervous breakdown in be\",\n",
              " \"I 've heard of women so depressed that they spend their 40th birthday incommunicado , having a mini nervous breakdown in be\",\n",
              " 'I remember my despondency in 1926 when Abd al Karim was forced to surrender to the Frenc',\n",
              " 'I remember my despondency in 1926 when Abd al Karim was forced to surrender to the Frenc',\n",
              " 'I remember my despondency in 1926 when Abd al Karim was forced to surrender to the Frenc',\n",
              " 'I remember my despondency in 1926 when Abd al Karim was forced to surrender to the Frenc',\n",
              " 'The euphoria and sense of well-being which accompanied the boom years of the 1980s has been replaced by a mood of despondency as companies and individuals experience the effects of a western-style recessio',\n",
              " 'The euphoria and sense of well-being which accompanied the boom years of the 1980s has been replaced by a mood of despondency as companies and individuals experience the effects of a western-style recessio',\n",
              " 'The euphoria and sense of well-being which accompanied the boom years of the 1980s has been replaced by a mood of despondency as companies and individuals experience the effects of a western-style recessio',\n",
              " 'The euphoria and sense of well-being which accompanied the boom years of the 1980s has been replaced by a mood of despondency as companies and individuals experience the effects of a western-style recessio',\n",
              " \"Julie 's devastated husband Tim , 32 , was last night preparing to fly from their home in Northampton to identify his wife 's bod\",\n",
              " \"Julie 's devastated husband Tim , 32 , was last night preparing to fly from their home in Northampton to identify his wife 's bod\",\n",
              " 'Yesterday it was also disclosed that glamorous Suzannah Dwyer told her devastated husband of her romance 24 hours before Bates went public with the news at a press conferenc',\n",
              " 'Yesterday it was also disclosed that glamorous Suzannah Dwyer told her devastated husband of her romance 24 hours before Bates went public with the news at a press conferenc',\n",
              " \"Wycombe were beaten by Bob Taylor 's 82nd-minute winner , and their disconsolate boss Martin O'Neill said : ` I was actually looking forward to extra-time because I was so sure we would wi\",\n",
              " \"Wycombe were beaten by Bob Taylor 's 82nd-minute winner , and their disconsolate boss Martin O'Neill said : ` I was actually looking forward to extra-time because I was so sure we would wi\",\n",
              " 'Leading scorer Paul Wilkinson struck his 20th goal of the season against his former club but looked glum as he left the dressing roo',\n",
              " 'Leading scorer Paul Wilkinson struck his 20th goal of the season against his former club but looked glum as he left the dressing roo',\n",
              " 'Sandra Cooper , 33 , midwife and founder of the Darlington Miscarriage Association , said :  Women who have had a miscarriage experience grief but they have no record of their unborn chil',\n",
              " \"Heartbroken Tim Godwin weeps as he tells how he had to tell his 23-month-old daughter Sophie : ` Mummy is n't coming back \",\n",
              " \"Heartbroken Tim Godwin weeps as he tells how he had to tell his 23-month-old daughter Sophie : ` Mummy is n't coming back \",\n",
              " 'She crammed more living into her 30 years than most people experience in two lifetimes , according to her heartbroken parents Ken and Dian',\n",
              " 'She crammed more living into her 30 years than most people experience in two lifetimes , according to her heartbroken parents Ken and Dian',\n",
              " 'And yesterday his heartbroken wife Jane slammed police for failing to find him after she raised the alarm 48 hours earlie',\n",
              " 'And yesterday his heartbroken wife Jane slammed police for failing to find him after she raised the alarm 48 hours earlie',\n",
              " \"Psalm 13 put her own question well &mdash'How; long shall l take counsel in my soul , having sorrow in my heart daily\",\n",
              " \"Psalm 13 put her own question well &mdash'How; long shall l take counsel in my soul , having sorrow in my heart daily\",\n",
              " \"June Barraclough 's A Time to Love ( Methuen , 12.95 ) spans both World Wars and paints a vivid picture of the loves and sorrows of the characters in the lives of two women friend\",\n",
              " \"June Barraclough 's A Time to Love ( Methuen , 12.95 ) spans both World Wars and paints a vivid picture of the loves and sorrows of the characters in the lives of two women friend\",\n",
              " \"June Barraclough 's A Time to Love ( Methuen , 12.95 ) spans both World Wars and paints a vivid picture of the loves and sorrows of the characters in the lives of two women friend\",\n",
              " \"June Barraclough 's A Time to Love ( Methuen , 12.95 ) spans both World Wars and paints a vivid picture of the loves and sorrows of the characters in the lives of two women friend\",\n",
              " \"MOST of those who read Glenys Roberts 's moan ( March 15 ) and who know Monaco felt , I suspect , more sorrow for the author than disdain for the plac\",\n",
              " \"MOST of those who read Glenys Roberts 's moan ( March 15 ) and who know Monaco felt , I suspect , more sorrow for the author than disdain for the plac\",\n",
              " 'When Lansdowne communicated his despair about the war to the press in 1917 and called for negotiations , there was a storm of protes',\n",
              " 'When Lansdowne communicated his despair about the war to the press in 1917 and called for negotiations , there was a storm of protes',\n",
              " 'When Lansdowne communicated his despair about the war to the press in 1917 and called for negotiations , there was a storm of protes',\n",
              " \"The Odones were left stunned when they were told in 1984 at the Children 's Hospital in Washington DC that their fun-loving , brilliant six-year-old son -- he already spoke three languages -- had ALD , and was under sentence of\",\n",
              " \"The Odones were left stunned when they were told in 1984 at the Children 's Hospital in Washington DC that their fun-loving , brilliant six-year-old son -- he already spoke three languages -- had ALD , and was under sentence of\",\n",
              " \"The Odones were left stunned when they were told in 1984 at the Children 's Hospital in Washington DC that their fun-loving , brilliant six-year-old son -- he already spoke three languages -- had ALD , and was under sentence of\",\n",
              " \"The Odones were left stunned when they were told in 1984 at the Children 's Hospital in Washington DC that their fun-loving , brilliant six-year-old son -- he already spoke three languages -- had ALD , and was under sentence of\",\n",
              " 'In her ` Daughter of Evil \" ( McShane , 1980 ) she stresses her own lifelong affection for her mother and her stunned reaction at being convicted and sen',\n",
              " 'In her ` Daughter of Evil \" ( McShane , 1980 ) she stresses her own lifelong affection for her mother and her stunned reaction at being convicted and sen',\n",
              " 'In her ` Daughter of Evil \" ( McShane , 1980 ) she stresses her own lifelong affection for her mother and her stunned reaction at being convicted and sen',\n",
              " 'In her ` Daughter of Evil \" ( McShane , 1980 ) she stresses her own lifelong affection for her mother and her stunned reaction at being convicted and sen',\n",
              " 'Most Germans looked on stunned as the results from the two state elections on 5 April flashed across their television s',\n",
              " 'Hamnett became irate and , alleging breach of contract and damage to her image , threatened to sue him for a 500,',\n",
              " 'Hamnett became irate and , alleging breach of contract and damage to her image , threatened to sue him for a 500,',\n",
              " 'At the sixth congress , in 1986 , irate delegates rejected a ridiculously optimistic programme that had been drafted in secret by Le Duan , the then secretary-gene',\n",
              " 'At the sixth congress , in 1986 , irate delegates rejected a ridiculously optimistic programme that had been drafted in secret by Le Duan , the then secretary-gene',\n",
              " 'At the sixth congress , in 1986 , irate delegates rejected a ridiculously optimistic programme that had been drafted in secret by Le Duan , the then secretary-gene',\n",
              " 'At the sixth congress , in 1986 , irate delegates rejected a ridiculously optimistic programme that had been drafted in secret by Le Duan , the then secretary-gene',\n",
              " 'This week an irate mother reportedly stormed into a London school and hauled her 15-year-old daughter out of a class in elementary sapph',\n",
              " 'This week an irate mother reportedly stormed into a London school and hauled her 15-year-old daughter out of a class in elementary sapph',\n",
              " \"City fans are still livid over the clash with Bull that led to skipper Steve Walsh 's sending off in the 3-0 defeat at Molineux three weeks \",\n",
              " \"City fans are still livid over the clash with Bull that led to skipper Steve Walsh 's sending off in the 3-0 defeat at Molineux three weeks \",\n",
              " \"The Government resolutely refused to comment until in January 1978 we suddenly heard that an exasperated Lord Rosebery had broken off the sale and given Sotheby 's the go-ahead to auction the contents in \",\n",
              " \"The Government resolutely refused to comment until in January 1978 we suddenly heard that an exasperated Lord Rosebery had broken off the sale and given Sotheby 's the go-ahead to auction the contents in \",\n",
              " \"The Government resolutely refused to comment until in January 1978 we suddenly heard that an exasperated Lord Rosebery had broken off the sale and given Sotheby 's the go-ahead to auction the contents in \",\n",
              " \"The Government resolutely refused to comment until in January 1978 we suddenly heard that an exasperated Lord Rosebery had broken off the sale and given Sotheby 's the go-ahead to auction the contents in \",\n",
              " \"Shaw , however , worked off most of his exasperation over the weekend winning the Durham and Cleveland County veterans ' over 50 ti\",\n",
              " \"Shaw , however , worked off most of his exasperation over the weekend winning the Durham and Cleveland County veterans ' over 50 ti\",\n",
              " 'They were a little anxious about the flight over the Timor Sea as their compass had been 10 awry on the outward journey though it was correct at Melbour',\n",
              " 'They were a little anxious about the flight over the Timor Sea as their compass had been 10 awry on the outward journey though it was correct at Melbour',\n",
              " \"Jose , the refuge guardian , was concerned when Jeremy did n't return to Elola on the evening of Sunday , October 21 -- he had left his camping gear behind in the h\",\n",
              " \"Jose , the refuge guardian , was concerned when Jeremy did n't return to Elola on the evening of Sunday , October 21 -- he had left his camping gear behind in the h\",\n",
              " \"Maria 's ( 3.5 years ) parents were concerned because of her severe headbanging at ho\",\n",
              " \"Maria 's ( 3.5 years ) parents were concerned because of her severe headbanging at ho\",\n",
              " 'Despite the disquiet at the club this year , Mr Stringer still appears more relaxed and more in control than he did when he first took charge in that winter of 19',\n",
              " 'Despite the disquiet at the club this year , Mr Stringer still appears more relaxed and more in control than he did when he first took charge in that winter of 19',\n",
              " 'In his meeting with Bush , zal reportedly sought to express his disquiet about a bill passing through the US Congress aimed at marking the \" 75th anniversary of the Armenian genocide of 1915-23',\n",
              " 'In his meeting with Bush , zal reportedly sought to express his disquiet about a bill passing through the US Congress aimed at marking the \" 75th anniversary of the Armenian genocide of 1915-23',\n",
              " 'In his meeting with Bush , zal reportedly sought to express his disquiet about a bill passing through the US Congress aimed at marking the \" 75th anniversary of the Armenian genocide of 1915-23',\n",
              " 'In his meeting with Bush , zal reportedly sought to express his disquiet about a bill passing through the US Congress aimed at marking the \" 75th anniversary of the Armenian genocide of 1915-23',\n",
              " 'In his meeting with Bush , zal reportedly sought to express his disquiet about a bill passing through the US Congress aimed at marking the \" 75th anniversary of the Armenian genocide of 1915-23',\n",
              " 'In his meeting with Bush , zal reportedly sought to express his disquiet about a bill passing through the US Congress aimed at marking the \" 75th anniversary of the Armenian genocide of 1915-23',\n",
              " 'In 1989 he began libel proceedings in the UK against the Singapore government after the Privy Council had expressed \" deep disquiet \" over his treatment by the government [ see p. 37574',\n",
              " 'In 1989 he began libel proceedings in the UK against the Singapore government after the Privy Council had expressed \" deep disquiet \" over his treatment by the government [ see p. 37574',\n",
              " 'In 1989 he began libel proceedings in the UK against the Singapore government after the Privy Council had expressed \" deep disquiet \" over his treatment by the government [ see p. 37574',\n",
              " 'In 1989 he began libel proceedings in the UK against the Singapore government after the Privy Council had expressed \" deep disquiet \" over his treatment by the government [ see p. 37574',\n",
              " 'In 1989 he began libel proceedings in the UK against the Singapore government after the Privy Council had expressed \" deep disquiet \" over his treatment by the government [ see p. 37574',\n",
              " 'In 1989 he began libel proceedings in the UK against the Singapore government after the Privy Council had expressed \" deep disquiet \" over his treatment by the government [ see p. 37574',\n",
              " 'In 1989 he began libel proceedings in the UK against the Singapore government after the Privy Council had expressed \" deep disquiet \" over his treatment by the government [ see p. 37574',\n",
              " 'Mr McWhinney ( 55 ) , of Drumhark Road , Comber , died instantly when his single-engined Pulsar plunged to the ground in front of horrified spectato',\n",
              " \"One itemised phone bill to Bedworth 's horrified mother ran to 34 pages of listed calls , the jury hea\",\n",
              " \"One itemised phone bill to Bedworth 's horrified mother ran to 34 pages of listed calls , the jury hea\",\n",
              " 'His horrified mother made a public appeal for the return of the ring , given to her by husband Alfed 18-years a',\n",
              " 'His horrified mother made a public appeal for the return of the ring , given to her by husband Alfed 18-years a',\n",
              " 'Rather than match China \\'s firmness , it can be confidently predicted , the Hong Kong authorities will follow past form , cease muttering about their shock and horror over Tiananmen , and return to bland assurances that the negotiations with Peking about a post-1997 ` Basic Law \" for Hong Kong are going we',\n",
              " 'Rather than match China \\'s firmness , it can be confidently predicted , the Hong Kong authorities will follow past form , cease muttering about their shock and horror over Tiananmen , and return to bland assurances that the negotiations with Peking about a post-1997 ` Basic Law \" for Hong Kong are going we',\n",
              " 'Rather than match China \\'s firmness , it can be confidently predicted , the Hong Kong authorities will follow past form , cease muttering about their shock and horror over Tiananmen , and return to bland assurances that the negotiations with Peking about a post-1997 ` Basic Law \" for Hong Kong are going we',\n",
              " 'But the blank horror over Khmer Rouge atrocities between 1975 and 1978 has created a blind spot about its strength in Cambodia , and the growing likelihood that it will return to power , either on its own or with the other Cambodian opposition factio',\n",
              " 'But the blank horror over Khmer Rouge atrocities between 1975 and 1978 has created a blind spot about its strength in Cambodia , and the growing likelihood that it will return to power , either on its own or with the other Cambodian opposition factio',\n",
              " 'But the blank horror over Khmer Rouge atrocities between 1975 and 1978 has created a blind spot about its strength in Cambodia , and the growing likelihood that it will return to power , either on its own or with the other Cambodian opposition factio',\n",
              " 'But the blank horror over Khmer Rouge atrocities between 1975 and 1978 has created a blind spot about its strength in Cambodia , and the growing likelihood that it will return to power , either on its own or with the other Cambodian opposition factio',\n",
              " 'But the blank horror over Khmer Rouge atrocities between 1975 and 1978 has created a blind spot about its strength in Cambodia , and the growing likelihood that it will return to power , either on its own or with the other Cambodian opposition factio',\n",
              " 'What a contrast with the rattled and untrustworthy gamblers at Number 10 and Number 11 Downing Stre',\n",
              " 'What a contrast with the rattled and untrustworthy gamblers at Number 10 and Number 11 Downing Stre',\n",
              " 'THE Italian writer Primo Levi died on 11 April 1987 , to the dismay of his reade',\n",
              " 'THE Italian writer Primo Levi died on 11 April 1987 , to the dismay of his reade',\n",
              " 'THE Italian writer Primo Levi died on 11 April 1987 , to the dismay of his reade',\n",
              " 'THE Italian writer Primo Levi died on 11 April 1987 , to the dismay of his reade',\n",
              " \"Ian Fleming 's superhero first appeared in Issue 4 of ZZAP ! , much to the dismay of the reviewing te\",\n",
              " 'She wrote : \" Thank you for your letter dated 9th October 1991 which I have read with great dism',\n",
              " 'She wrote : \" Thank you for your letter dated 9th October 1991 which I have read with great dism']"
            ]
          },
          "execution_count": 9,
          "metadata": {},
          "output_type": "execute_result"
        }
      ],
      "source": [
        "digits = \"0 1 2 3 4 5 6 7 8 9\".split()\n",
        "\n",
        "digits_list = []\n",
        "for i in df.Text  :\n",
        "    for smyle in digits :\n",
        "        if smyle in i :\n",
        "            digits_list.append(i)\n",
        "\n",
        "digits_list"
      ]
    },
    {
      "cell_type": "code",
      "execution_count": 10,
      "metadata": {
        "colab": {
          "base_uri": "https://localhost:8080/"
        },
        "id": "Srf33zksl-L5",
        "outputId": "efc991ba-94df-47d6-a77f-a43a5356c6bb"
      },
      "outputs": [
        {
          "data": {
            "text/plain": [
              "144"
            ]
          },
          "execution_count": 10,
          "metadata": {},
          "output_type": "execute_result"
        }
      ],
      "source": [
        "len(digits_list)"
      ]
    },
    {
      "cell_type": "markdown",
      "metadata": {
        "id": "6esn-Pnvl6g1"
      },
      "source": [
        "- Le datafram contient 144 lignes avec des digits (à prendre en compte)"
      ]
    },
    {
      "cell_type": "code",
      "execution_count": 11,
      "metadata": {
        "colab": {
          "base_uri": "https://localhost:8080/"
        },
        "id": "k4tx_B90mE7Q",
        "outputId": "cb84a145-9806-4aab-9e22-70dcd9833359"
      },
      "outputs": [
        {
          "data": {
            "text/plain": [
              "[]"
            ]
          },
          "execution_count": 11,
          "metadata": {},
          "output_type": "execute_result"
        }
      ],
      "source": [
        "digits = \"{ } / \\\\ \".split()\n",
        "\n",
        "others = []\n",
        "for i in df.Text  :\n",
        "    for smyle in digits :\n",
        "        if smyle in i :\n",
        "            others.append(i)\n",
        "\n",
        "others"
      ]
    },
    {
      "cell_type": "markdown",
      "metadata": {
        "id": "xkvQ_CF6lpRK"
      },
      "source": [
        "# Cleaning (preprocessing) + visualisation "
      ]
    },
    {
      "cell_type": "code",
      "execution_count": null,
      "metadata": {
        "id": "29WEqbuCNUec"
      },
      "outputs": [],
      "source": [
        "df['clean_text'] = hero.clean(df['Text'])\n",
        "df['tfidf_clean_text'] = hero.tfidf(df['clean_text'])"
      ]
    },
    {
      "cell_type": "code",
      "execution_count": null,
      "metadata": {
        "id": "dWbOAsZrgrHO"
      },
      "outputs": [],
      "source": [
        "df"
      ]
    },
    {
      "cell_type": "code",
      "execution_count": null,
      "metadata": {
        "id": "jAIE_-r-NpQs"
      },
      "outputs": [],
      "source": [
        "hero.wordcloud(df.clean_text, max_words=100,)"
      ]
    },
    {
      "cell_type": "code",
      "execution_count": null,
      "metadata": {
        "id": "hwKr5K06jGgQ"
      },
      "outputs": [],
      "source": [
        "from texthero import stopwords\n",
        "default_stopwords = stopwords.DEFAULT\n",
        "custom_stopwords = default_stopwords.union(set([\"feel\",\"im\",\"feeling\",\"like\",\"really\",'know','time','get','little','bit','would','want','think']))\n",
        "df['clean_text'] = hero.remove_stopwords(df['clean_text'], custom_stopwords)"
      ]
    },
    {
      "cell_type": "code",
      "execution_count": null,
      "metadata": {
        "id": "7dINUB6jjwFn"
      },
      "outputs": [],
      "source": [
        "hero.wordcloud(df.clean_text, max_words=100,)"
      ]
    },
    {
      "cell_type": "code",
      "execution_count": null,
      "metadata": {
        "id": "qm-t2LqCi2IY"
      },
      "outputs": [],
      "source": [
        "NUM_TOP_WORDS = 10\n",
        "df.groupby('Emotion')['clean_text'].apply(lambda x: hero.top_words(x)[:NUM_TOP_WORDS])"
      ]
    },
    {
      "cell_type": "code",
      "execution_count": null,
      "metadata": {
        "id": "of4aS0u9iHX_"
      },
      "outputs": [],
      "source": [
        "df['pca_tfidf_clean_text'] = hero.pca(df['tfidf_clean_text'])"
      ]
    },
    {
      "cell_type": "code",
      "execution_count": null,
      "metadata": {
        "id": "eej3u5U0AWHY"
      },
      "outputs": [],
      "source": [
        "df"
      ]
    },
    {
      "cell_type": "code",
      "execution_count": null,
      "metadata": {
        "id": "It0mb1dAiUu8"
      },
      "outputs": [],
      "source": [
        "hero.scatterplot(df, col='pca_tfidf_clean_text', color='Emotion', title=\"Emotion space\")"
      ]
    },
    {
      "cell_type": "code",
      "execution_count": null,
      "metadata": {
        "id": "E2IvVejXBhY4"
      },
      "outputs": [],
      "source": [
        "# basic = tf idf \n",
        "# word embbeding avec gloves \n",
        "# bert "
      ]
    },
    {
      "cell_type": "code",
      "execution_count": null,
      "metadata": {
        "id": "fn4YbwYiqA1r"
      },
      "outputs": [],
      "source": []
    },
    {
      "cell_type": "markdown",
      "metadata": {
        "id": "UoFVXuoYmaWI"
      },
      "source": [
        "# Separation jeu de train et de test + entrainement model"
      ]
    },
    {
      "cell_type": "code",
      "execution_count": null,
      "metadata": {
        "id": "FAPMdxuUiDJL"
      },
      "outputs": [],
      "source": [
        "df"
      ]
    },
    {
      "cell_type": "code",
      "execution_count": null,
      "metadata": {
        "id": "RvocRdOondfS"
      },
      "outputs": [],
      "source": [
        "df.Emotion.unique()"
      ]
    },
    {
      "cell_type": "code",
      "execution_count": null,
      "metadata": {
        "id": "VLUM5TTPnf4n"
      },
      "outputs": [],
      "source": [
        "df.loc[df.Emotion == \"sadness\", 'Emotion'] = 1 \n",
        "df.loc[df.Emotion == \"anger\", 'Emotion'] = 2\n",
        "df.loc[df.Emotion == \"love\", 'Emotion'] = 3\n",
        "df.loc[df.Emotion == \"surprise\", 'Emotion'] = 4 \n",
        "df.loc[df.Emotion == \"fear\", 'Emotion'] = 5\n",
        "df.loc[df.Emotion == \"happy\", 'Emotion'] = 6 \n",
        "\n",
        "df.Emotion = np.asarray(df.Emotion).astype('int64').reshape((-1,1))"
      ]
    },
    {
      "cell_type": "code",
      "execution_count": null,
      "metadata": {
        "id": "qbwxiHzZn78x"
      },
      "outputs": [],
      "source": [
        "df.Emotion.unique()"
      ]
    },
    {
      "cell_type": "code",
      "execution_count": null,
      "metadata": {
        "id": "oEW5nBUjNUee"
      },
      "outputs": [],
      "source": [
        "X_train, X_test, y_train, y_test = train_test_split(df.Text, df.Emotion, train_size=0.85, random_state=2, shuffle=True)\n",
        "X_test, X_valid, y_test, y_valid = train_test_split(X_train, y_train, train_size=0.5, random_state=2, shuffle=True)"
      ]
    },
    {
      "cell_type": "code",
      "execution_count": null,
      "metadata": {
        "id": "Tyaa1rCKNUel"
      },
      "outputs": [],
      "source": [
        "import tensorflow as tf\n",
        "import tensorflow_addons as tfa # F1_score\n",
        "from keras.models import Sequential\n",
        "from keras import layers\n",
        "\n",
        "# example of l2 on a dense layer\n",
        "from keras.regularizers import l2\n",
        "\n",
        "from keras.utils import np_utils\n",
        "\n",
        "\n",
        "tf.random.set_seed(2)"
      ]
    },
    {
      "cell_type": "code",
      "execution_count": null,
      "metadata": {
        "id": "Y3yCuqQMNUem"
      },
      "outputs": [],
      "source": [
        "vectorizer = CountVectorizer(max_df=0.7, min_df=2)\n",
        "vectorizer.fit(df.clean_text)\n",
        "\n",
        "\n",
        "X_train_t = vectorizer.transform(X_train)\n",
        "X_test_t = vectorizer.transform(X_test)\n",
        "X_val_t = vectorizer.transform(X_valid)\n",
        "\n",
        "\n",
        "# Transformer les y en int pour faire cette partie : \n",
        "\n",
        "dummy_y_train = np_utils.to_categorical(y_train)\n",
        "dummy_y_test = np_utils.to_categorical(y_test)\n",
        "dummy_y_val = np_utils.to_categorical(y_valid)\n"
      ]
    },
    {
      "cell_type": "code",
      "execution_count": null,
      "metadata": {
        "id": "plXB0sHrqHSA"
      },
      "outputs": [],
      "source": [
        "X_train_t.shape"
      ]
    },
    {
      "cell_type": "code",
      "execution_count": null,
      "metadata": {
        "id": "3mFC32BdqJsP"
      },
      "outputs": [],
      "source": [
        "X_test_t.shape\n"
      ]
    },
    {
      "cell_type": "code",
      "execution_count": null,
      "metadata": {
        "id": "SvzgZBSA7bk-"
      },
      "outputs": [],
      "source": [
        "X_test.shape"
      ]
    },
    {
      "cell_type": "code",
      "execution_count": null,
      "metadata": {
        "id": "fUYWEC-z7d0h"
      },
      "outputs": [],
      "source": [
        "X_test.shape"
      ]
    },
    {
      "cell_type": "code",
      "execution_count": null,
      "metadata": {
        "id": "fKMBGOar7j3K"
      },
      "outputs": [],
      "source": [
        "X_test_t.reshape((-1,1))"
      ]
    },
    {
      "cell_type": "code",
      "execution_count": null,
      "metadata": {
        "id": "qyjexSqQpmcI"
      },
      "outputs": [],
      "source": [
        "print(dummy_y_val)"
      ]
    },
    {
      "cell_type": "code",
      "execution_count": null,
      "metadata": {
        "id": "T9Zm3aGE54ca"
      },
      "outputs": [],
      "source": [
        "df.info()"
      ]
    },
    {
      "cell_type": "code",
      "execution_count": null,
      "metadata": {
        "id": "fs-Q3ssKo-RB"
      },
      "outputs": [],
      "source": [
        "df"
      ]
    },
    {
      "cell_type": "code",
      "execution_count": null,
      "metadata": {
        "id": "qTFDi1LUNUen"
      },
      "outputs": [],
      "source": [
        "model = Sequential()\n",
        "\n",
        "initializer = tf.keras.initializers.HeNormal()\n",
        "\n",
        "model.add(layers.Dense(62, input_dim=X_train_t.shape[1],kernel_initializer=initializer, activation=\"relu\"))\n",
        "model.add(layers.BatchNormalization())\n",
        "model.add(layers.AlphaDropout(10))\n",
        "model.add(layers.Dense(21, input_dim=X_train_t.shape[1],kernel_initializer=initializer, activation=\"relu\"))\n",
        "model.add(layers.BatchNormalization())\n",
        "model.add(layers.AlphaDropout(10))\n",
        "model.add(layers.Dense(6, activation=\"softmax\"))\n",
        "\n",
        "model.compile(\n",
        "    loss=\"binary_crossentropy\",\n",
        "    metrics=[tfa.metrics.F1Score(num_classes=2)],\n",
        "    optimizer=tf.keras.optimizers.Adam(learning_rate=41e-5)\n",
        ")\n",
        "\n",
        "# model.summary()\n",
        "\n",
        "history= model.fit(\n",
        "    X_train_t,\n",
        "    dummy_y_train,\n",
        "    epochs=100,\n",
        "    batch_size=64,\n",
        "    callbacks=tf.keras.callbacks.EarlyStopping(patience=3, monitor=\"val_loss\"),\n",
        "    validation_data=(X_test_t, dummy_y_test)\n",
        ")"
      ]
    },
    {
      "cell_type": "code",
      "execution_count": null,
      "metadata": {
        "id": "PP8HDftVNUeo"
      },
      "outputs": [],
      "source": [
        "print(f\"Train {model.evaluate(X_train_t, dummy_y_train, batch_size=64)} \")\n",
        "print('-')\n",
        "print(\"Test:\",model.evaluate(X_test_t, dummy_y_test, batch_size=64))\n",
        "print(100*'-')\n",
        "print(\"Validation:\",model.evaluate(X_val_t, dummy_y_val, batch_size=64))\n",
        "print(100*'-')"
      ]
    }
  ],
  "metadata": {
    "accelerator": "GPU",
    "colab": {
      "machine_shape": "hm",
      "name": "projet_nlp_sentiments.ipynb",
      "provenance": []
    },
    "interpreter": {
      "hash": "2129c700e705de3efd9ae2b2b20e2b8815b1347cebedadc9119654098963d6df"
    },
    "kernelspec": {
      "display_name": "Python 3.9.7 ('base')",
      "language": "python",
      "name": "python3"
    },
    "language_info": {
      "codemirror_mode": {
        "name": "ipython",
        "version": 3
      },
      "file_extension": ".py",
      "mimetype": "text/x-python",
      "name": "python",
      "nbconvert_exporter": "python",
      "pygments_lexer": "ipython3",
      "version": "3.9.7"
    },
    "orig_nbformat": 4
  },
  "nbformat": 4,
  "nbformat_minor": 0
}
